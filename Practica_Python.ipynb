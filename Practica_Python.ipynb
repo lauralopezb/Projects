{
 "cells": [
  {
   "cell_type": "markdown",
   "metadata": {},
   "source": [
    "# PRACTICA DE PYTHON"
   ]
  },
  {
   "cell_type": "markdown",
   "metadata": {},
   "source": [
    "## Ejercicios\n",
    "\n",
    "Responda las preguntas o complete las tareas que se detallan en negrita a continuación, use el método específico descrito, si corresponde."
   ]
  },
  {
   "cell_type": "markdown",
   "metadata": {},
   "source": [
    "** Cuanto es $7^4$?**"
   ]
  },
  {
   "cell_type": "code",
   "execution_count": 1,
   "metadata": {},
   "outputs": [
    {
     "name": "stdout",
     "output_type": "stream",
     "text": [
      "7^4 es 2401\n"
     ]
    }
   ],
   "source": [
    "v = 7**4\n",
    "print(\"7^4 es {}\".format(v))"
   ]
  },
  {
   "cell_type": "markdown",
   "metadata": {},
   "source": [
    "** Divida esta cadena de caracteres:**\n",
    "\n",
    "    s = \"Hola Estoy feliz aprendiendo python!\"\n",
    "    \n",
    "** y conviertalo en una lista **"
   ]
  },
  {
   "cell_type": "code",
   "execution_count": 2,
   "metadata": {},
   "outputs": [
    {
     "data": {
      "text/plain": [
       "['Hola', 'Estoy', 'feliz', 'aprendiendo', 'python!']"
      ]
     },
     "execution_count": 2,
     "metadata": {},
     "output_type": "execute_result"
    }
   ],
   "source": [
    "s = \"Hola Estoy feliz aprendiendo python!\"\n",
    "s.split()"
   ]
  },
  {
   "cell_type": "markdown",
   "metadata": {},
   "source": [
    "** Dadas las siguientes variables:**\n",
    "\n",
    "    planeta = \"Tierra\"\n",
    "    diametro = 12742\n",
    "\n",
    "** Use .format() o los f-strings para imprimir lo siguiente: **\n",
    "\n",
    "    El diametro de la Tierra es de 12742 kilometros."
   ]
  },
  {
   "cell_type": "code",
   "execution_count": 3,
   "metadata": {},
   "outputs": [],
   "source": [
    "planeta = \"Tierra\"\n",
    "diametro = 12742"
   ]
  },
  {
   "cell_type": "code",
   "execution_count": 4,
   "metadata": {},
   "outputs": [
    {
     "name": "stdout",
     "output_type": "stream",
     "text": [
      "El diametro de la Tierra es de 12742 kilometros\n"
     ]
    }
   ],
   "source": [
    "print(\"El diametro de la {} es de {} kilometros\".format(planeta,diametro))"
   ]
  },
  {
   "cell_type": "markdown",
   "metadata": {},
   "source": [
    "** Dada la siguiente lista con muchos elementos, use la indexacion para extraer la palabra \"hello\" **"
   ]
  },
  {
   "cell_type": "code",
   "execution_count": 5,
   "metadata": {},
   "outputs": [],
   "source": [
    "lst = [1,2,[3,4],[5,[100,200,['hello']],23,11],1,7]"
   ]
  },
  {
   "cell_type": "code",
   "execution_count": 6,
   "metadata": {},
   "outputs": [
    {
     "data": {
      "text/plain": [
       "'hello'"
      ]
     },
     "execution_count": 6,
     "metadata": {},
     "output_type": "execute_result"
    }
   ],
   "source": [
    "lst[3][1][2][0]"
   ]
  },
  {
   "cell_type": "markdown",
   "metadata": {},
   "source": [
    "** Dado el siguiente diccionario extraiga la palabra \"hello\". Este puede ser un poco truculento **"
   ]
  },
  {
   "cell_type": "code",
   "execution_count": 7,
   "metadata": {},
   "outputs": [],
   "source": [
    "d = {'k1':[1,2,3,{'truco':['oh','por','Dios','En serio',{'target':[1,2,3,'hello']}]}]}"
   ]
  },
  {
   "cell_type": "code",
   "execution_count": 8,
   "metadata": {},
   "outputs": [
    {
     "data": {
      "text/plain": [
       "'hello'"
      ]
     },
     "execution_count": 8,
     "metadata": {},
     "output_type": "execute_result"
    }
   ],
   "source": [
    "d['k1'][3]['truco'][4]['target'][3]"
   ]
  },
  {
   "cell_type": "markdown",
   "metadata": {},
   "source": [
    "** Cual es la diferencia principal entre una tupla y una lista? **"
   ]
  },
  {
   "cell_type": "markdown",
   "metadata": {
    "collapsed": true
   },
   "source": [
    "Las tuplas son como las listas a las cuales les puedo ingresar datos.\n",
    "\n",
    "Las tuplas son inmutables, es decir,no se puede modificar los datos; mientras que las listas son mutables, por lo tanto se pueden modificar los datos.\n",
    "\n",
    "Las tuplas se crean con parentesis y las listas con corchetes."
   ]
  },
  {
   "cell_type": "markdown",
   "metadata": {},
   "source": [
    "** Cree una función llamada `domainGet` que capture el dominio del sitio web de correo electrónico a partir de una cadena con el siguiente formato:**\n",
    "\n",
    "    user@domain.com\n",
    "    \n",
    "**Por ejemplo, Con el siguiente argumento \"user@domain.com\" la funcion retornara: domain.com**"
   ]
  },
  {
   "cell_type": "code",
   "execution_count": 9,
   "metadata": {},
   "outputs": [],
   "source": [
    "def domainGet(dominio): \n",
    "    return dominio.split('@')[1]"
   ]
  },
  {
   "cell_type": "code",
   "execution_count": 10,
   "metadata": {},
   "outputs": [
    {
     "data": {
      "text/plain": [
       "'domain.com'"
      ]
     },
     "execution_count": 10,
     "metadata": {},
     "output_type": "execute_result"
    }
   ],
   "source": [
    "domainGet('user@domain.com')"
   ]
  },
  {
   "cell_type": "markdown",
   "metadata": {},
   "source": [
    "** Cree una función básica que devuelva True si la palabra 'perro' o 'Perro' o 'PERRO' está contenida en string de entrada. No se preocupe por los casos extremos como una puntuación que se adjunta a la palabra perro, pero tenga en cuenta las mayúsculas.**"
   ]
  },
  {
   "cell_type": "code",
   "execution_count": 11,
   "metadata": {},
   "outputs": [],
   "source": [
    "def findDog(x):\n",
    "    if 'Perro' in x or 'perro' in x or 'PERRO' in x:\n",
    "        return True"
   ]
  },
  {
   "cell_type": "code",
   "execution_count": 12,
   "metadata": {},
   "outputs": [
    {
     "data": {
      "text/plain": [
       "True"
      ]
     },
     "execution_count": 12,
     "metadata": {},
     "output_type": "execute_result"
    }
   ],
   "source": [
    "findDog('Hay un Perro aca?')"
   ]
  },
  {
   "cell_type": "markdown",
   "metadata": {},
   "source": [
    "** Crea una función que cuente la cantidad de veces que aparece la palabra \"perro\" en una cadena. Nuevamente ignore los casos extremos. **"
   ]
  },
  {
   "cell_type": "code",
   "execution_count": 13,
   "metadata": {},
   "outputs": [],
   "source": [
    "def countDog(y):\n",
    "    dog = y.split()\n",
    "    suma = 0\n",
    "    for z in dog:\n",
    "        if z == 'perro':\n",
    "            suma+=1\n",
    "    return suma"
   ]
  },
  {
   "cell_type": "code",
   "execution_count": 14,
   "metadata": {},
   "outputs": [
    {
     "data": {
      "text/plain": [
       "2"
      ]
     },
     "execution_count": 14,
     "metadata": {},
     "output_type": "execute_result"
    }
   ],
   "source": [
    "countDog('Este perro corre más rápido que el otro de perro de Juan!')"
   ]
  },
  {
   "cell_type": "markdown",
   "metadata": {},
   "source": [
    "** Use expresiones ´lambda´ y la función ´filter()´ para filtrar y quitar palabras de una lista que no comienza con la letra 's'. Por ejemplo:**\n",
    "\n",
    "     seq = ['sopa', 'perro', 'sal', 'gato', 'genial']\n",
    "\n",
    "** debe filtrarse a: **\n",
    "\n",
    "     ['sopa', 'sal']"
   ]
  },
  {
   "cell_type": "code",
   "execution_count": 15,
   "metadata": {},
   "outputs": [],
   "source": [
    "seq = ['sopa', 'perro', 'sal', 'gato', 'genial']"
   ]
  },
  {
   "cell_type": "code",
   "execution_count": 16,
   "metadata": {},
   "outputs": [
    {
     "data": {
      "text/plain": [
       "['sopa', 'sal']"
      ]
     },
     "execution_count": 16,
     "metadata": {},
     "output_type": "execute_result"
    }
   ],
   "source": [
    "list(filter(lambda se: se[0] == 's',seq))"
   ]
  },
  {
   "cell_type": "markdown",
   "metadata": {},
   "source": [
    "### Problema final\n",
    "** Usted conduce demasiado rápido, y un oficial de policía lo detiene. Escriba una función para devolver uno de los 3 posibles resultados: \"No Infraccion\", \"Infraccion pequeña\" o \"Infraccion grande\". Si su velocidad es 60 o menos, el resultado es \"No Infraccion\". Si la velocidad está entre 61 y 80 inclusive, el resultado es \"Infraccion pequeña\". Si la velocidad es 81 o más, el resultado es \"Infraccion grande\". A menos que sea su cumpleaños (codificado como un valor booleano en los parámetros de la función) - en su cumpleaños, su velocidad puede ser 5 más alta en todos los casos. **"
   ]
  },
  {
   "cell_type": "code",
   "execution_count": 17,
   "metadata": {},
   "outputs": [],
   "source": [
    "def detenido_por_velocidad(speed,is_birthday):\n",
    "        if speed <= 60 or is_birthday == True and speed <= 65 :\n",
    "            return \"No infraccion\"\n",
    "        elif speed >= 61 and speed <=80 or is_birthday == True and speed >= 66 and speed <=85:\n",
    "            return \"Infraccion pequeña\"\n",
    "        else:\n",
    "            return \"Infraccion grande\"\n",
    "    "
   ]
  },
  {
   "cell_type": "code",
   "execution_count": 18,
   "metadata": {},
   "outputs": [
    {
     "data": {
      "text/plain": [
       "'Infraccion pequeña'"
      ]
     },
     "execution_count": 18,
     "metadata": {},
     "output_type": "execute_result"
    }
   ],
   "source": [
    "detenido_por_velocidad(81,True)"
   ]
  },
  {
   "cell_type": "code",
   "execution_count": 19,
   "metadata": {},
   "outputs": [
    {
     "data": {
      "text/plain": [
       "'Infraccion grande'"
      ]
     },
     "execution_count": 19,
     "metadata": {},
     "output_type": "execute_result"
    }
   ],
   "source": [
    "detenido_por_velocidad(81,False)"
   ]
  }
 ],
 "metadata": {
  "kernelspec": {
   "display_name": "Python 3",
   "language": "python",
   "name": "python3"
  },
  "language_info": {
   "codemirror_mode": {
    "name": "ipython",
    "version": 3
   },
   "file_extension": ".py",
   "mimetype": "text/x-python",
   "name": "python",
   "nbconvert_exporter": "python",
   "pygments_lexer": "ipython3",
   "version": "3.6.5"
  }
 },
 "nbformat": 4,
 "nbformat_minor": 2
}
