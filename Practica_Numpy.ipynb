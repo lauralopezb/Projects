{
 "cells": [
  {
   "cell_type": "markdown",
   "metadata": {},
   "source": [
    "# PRACTICA DE NUMPY <a class=\"tocSkip\">"
   ]
  },
  {
   "cell_type": "markdown",
   "metadata": {
    "toc": true
   },
   "source": [
    "<h1>Contenido<span class=\"tocSkip\"></span></h1>\n",
    "<div class=\"toc\"><ul class=\"toc-item\"><li><ul class=\"toc-item\"><li><ul class=\"toc-item\"><li><span><a href=\"#Importe-NumPy-como-np\" data-toc-modified-id=\"Importe-NumPy-como-np-0.0.1\"><span class=\"toc-item-num\">0.0.1&nbsp;&nbsp;</span>Importe NumPy como np</a></span></li><li><span><a href=\"#Cree-un-arreglo-de-ceros-de-10-elementos\" data-toc-modified-id=\"Cree-un-arreglo-de-ceros-de-10-elementos-0.0.2\"><span class=\"toc-item-num\">0.0.2&nbsp;&nbsp;</span>Cree un arreglo de ceros de 10 elementos</a></span></li><li><span><a href=\"#Cree-un-arreglo-de-unos-de-10-elementos\" data-toc-modified-id=\"Cree-un-arreglo-de-unos-de-10-elementos-0.0.3\"><span class=\"toc-item-num\">0.0.3&nbsp;&nbsp;</span>Cree un arreglo de unos de 10 elementos</a></span></li><li><span><a href=\"#Cree-un-arreglo-de-cincos-de-10-elementos\" data-toc-modified-id=\"Cree-un-arreglo-de-cincos-de-10-elementos-0.0.4\"><span class=\"toc-item-num\">0.0.4&nbsp;&nbsp;</span>Cree un arreglo de cincos de 10 elementos</a></span></li><li><span><a href=\"#Cree-un-arreglo-de-numeros-enteros-Del-10-al-50-(incluido)\" data-toc-modified-id=\"Cree-un-arreglo-de-numeros-enteros-Del-10-al-50-(incluido)-0.0.5\"><span class=\"toc-item-num\">0.0.5&nbsp;&nbsp;</span>Cree un arreglo de numeros enteros Del 10 al 50 (incluido)</a></span></li><li><span><a href=\"#Cree-un-arreglo-de-los-numeros-enteros-pares-Del-10-al-50-(incluidos)\" data-toc-modified-id=\"Cree-un-arreglo-de-los-numeros-enteros-pares-Del-10-al-50-(incluidos)-0.0.6\"><span class=\"toc-item-num\">0.0.6&nbsp;&nbsp;</span>Cree un arreglo de los numeros enteros pares Del 10 al 50 (incluidos)</a></span></li><li><span><a href=\"#Crear-una-matrix-de-3x3-con-valores-del-0-al-8-(incluido)\" data-toc-modified-id=\"Crear-una-matrix-de-3x3-con-valores-del-0-al-8-(incluido)-0.0.7\"><span class=\"toc-item-num\">0.0.7&nbsp;&nbsp;</span>Crear una matrix de 3x3 con valores del 0 al 8 (incluido)</a></span></li><li><span><a href=\"#Crear-la-matriz-identidad-de-3x3\" data-toc-modified-id=\"Crear-la-matriz-identidad-de-3x3-0.0.8\"><span class=\"toc-item-num\">0.0.8&nbsp;&nbsp;</span>Crear la matriz identidad de 3x3</a></span></li><li><span><a href=\"#Use-NumPy-para-generar-un-numero-aleatorio-entre-0-y-1\" data-toc-modified-id=\"Use-NumPy-para-generar-un-numero-aleatorio-entre-0-y-1-0.0.9\"><span class=\"toc-item-num\">0.0.9&nbsp;&nbsp;</span>Use NumPy para generar un numero aleatorio entre 0 y 1</a></span></li><li><span><a href=\"#Use-NumPy-para-generar-un-arreglo-de-25-numeros-aleatorios-que-sean-de-la-distribucion-normal-estandar\" data-toc-modified-id=\"Use-NumPy-para-generar-un-arreglo-de-25-numeros-aleatorios-que-sean-de-la-distribucion-normal-estandar-0.0.10\"><span class=\"toc-item-num\">0.0.10&nbsp;&nbsp;</span>Use NumPy para generar un arreglo de 25 numeros aleatorios que sean de la distribucion normal estandar</a></span></li><li><span><a href=\"#Cree-la-siguiente-matriz:\" data-toc-modified-id=\"Cree-la-siguiente-matriz:-0.0.11\"><span class=\"toc-item-num\">0.0.11&nbsp;&nbsp;</span>Cree la siguiente matriz:</a></span></li><li><span><a href=\"#Cree-un-arreglo-de-20-elementos-linealmente-espaciados-entre-0-y-1:\" data-toc-modified-id=\"Cree-un-arreglo-de-20-elementos-linealmente-espaciados-entre-0-y-1:-0.0.12\"><span class=\"toc-item-num\">0.0.12&nbsp;&nbsp;</span>Cree un arreglo de 20 elementos linealmente espaciados entre 0 y 1:</a></span></li></ul></li></ul></li><li><span><a href=\"#Indexacion-y-seleccion-con-Numpy\" data-toc-modified-id=\"Indexacion-y-seleccion-con-Numpy-1\"><span class=\"toc-item-num\">1&nbsp;&nbsp;</span>Indexacion y seleccion con Numpy</a></span><ul class=\"toc-item\"><li><ul class=\"toc-item\"><li><span><a href=\"#Obtenga-la-suma-de-todos-los-valores-de-la-matriz\" data-toc-modified-id=\"Obtenga-la-suma-de-todos-los-valores-de-la-matriz-1.0.1\"><span class=\"toc-item-num\">1.0.1&nbsp;&nbsp;</span>Obtenga la suma de todos los valores de la matriz</a></span></li><li><span><a href=\"#Obtenga-la-desviación-estándar-de-los-valores-de-la-matriz\" data-toc-modified-id=\"Obtenga-la-desviación-estándar-de-los-valores-de-la-matriz-1.0.2\"><span class=\"toc-item-num\">1.0.2&nbsp;&nbsp;</span>Obtenga la desviación estándar de los valores de la matriz</a></span></li><li><span><a href=\"#Obtener-la-suma-de-cada-una-de-las-columnas-de-la-matriz\" data-toc-modified-id=\"Obtener-la-suma-de-cada-una-de-las-columnas-de-la-matriz-1.0.3\"><span class=\"toc-item-num\">1.0.3&nbsp;&nbsp;</span>Obtener la suma de cada una de las columnas de la matriz</a></span></li></ul></li></ul></li></ul></div>"
   ]
  },
  {
   "cell_type": "markdown",
   "metadata": {},
   "source": [
    "#### Importe NumPy como np"
   ]
  },
  {
   "cell_type": "code",
   "execution_count": 5,
   "metadata": {},
   "outputs": [],
   "source": [
    "import numpy as np"
   ]
  },
  {
   "cell_type": "markdown",
   "metadata": {},
   "source": [
    "#### Cree un arreglo de ceros de 10 elementos"
   ]
  },
  {
   "cell_type": "code",
   "execution_count": 2,
   "metadata": {},
   "outputs": [
    {
     "data": {
      "text/plain": [
       "array([0., 0., 0., 0., 0., 0., 0., 0., 0., 0.])"
      ]
     },
     "execution_count": 2,
     "metadata": {},
     "output_type": "execute_result"
    }
   ],
   "source": [
    "np.zeros(10)"
   ]
  },
  {
   "cell_type": "markdown",
   "metadata": {},
   "source": [
    "#### Cree un arreglo de unos de 10 elementos"
   ]
  },
  {
   "cell_type": "code",
   "execution_count": 4,
   "metadata": {},
   "outputs": [
    {
     "data": {
      "text/plain": [
       "array([1., 1., 1., 1., 1., 1., 1., 1., 1., 1.])"
      ]
     },
     "execution_count": 4,
     "metadata": {},
     "output_type": "execute_result"
    }
   ],
   "source": [
    "np.ones(10)"
   ]
  },
  {
   "cell_type": "markdown",
   "metadata": {},
   "source": [
    "#### Cree un arreglo de cincos de 10 elementos"
   ]
  },
  {
   "cell_type": "code",
   "execution_count": 6,
   "metadata": {},
   "outputs": [
    {
     "data": {
      "text/plain": [
       "array([5., 5., 5., 5., 5., 5., 5., 5., 5., 5.])"
      ]
     },
     "execution_count": 6,
     "metadata": {},
     "output_type": "execute_result"
    }
   ],
   "source": [
    "np.ones(10)*5"
   ]
  },
  {
   "cell_type": "markdown",
   "metadata": {},
   "source": [
    "#### Cree un arreglo de numeros enteros Del 10 al 50 (incluido) "
   ]
  },
  {
   "cell_type": "code",
   "execution_count": 9,
   "metadata": {},
   "outputs": [
    {
     "data": {
      "text/plain": [
       "array([10, 11, 12, 13, 14, 15, 16, 17, 18, 19, 20, 21, 22, 23, 24, 25, 26,\n",
       "       27, 28, 29, 30, 31, 32, 33, 34, 35, 36, 37, 38, 39, 40, 41, 42, 43,\n",
       "       44, 45, 46, 47, 48, 49, 50])"
      ]
     },
     "execution_count": 9,
     "metadata": {},
     "output_type": "execute_result"
    }
   ],
   "source": [
    "np.arange(10,51)"
   ]
  },
  {
   "cell_type": "markdown",
   "metadata": {},
   "source": [
    "#### Cree un arreglo de los numeros enteros pares Del 10 al 50 (incluidos) "
   ]
  },
  {
   "cell_type": "code",
   "execution_count": 8,
   "metadata": {},
   "outputs": [
    {
     "data": {
      "text/plain": [
       "array([10, 12, 14, 16, 18, 20, 22, 24, 26, 28, 30, 32, 34, 36, 38, 40, 42,\n",
       "       44, 46, 48, 50])"
      ]
     },
     "execution_count": 8,
     "metadata": {},
     "output_type": "execute_result"
    }
   ],
   "source": [
    "np.arange(10,51,2)"
   ]
  },
  {
   "cell_type": "markdown",
   "metadata": {},
   "source": [
    "#### Crear una matrix de 3x3 con valores del 0 al 8 (incluido)"
   ]
  },
  {
   "cell_type": "code",
   "execution_count": 7,
   "metadata": {},
   "outputs": [
    {
     "data": {
      "text/plain": [
       "array([[0, 1, 2],\n",
       "       [3, 4, 5],\n",
       "       [6, 7, 8]])"
      ]
     },
     "execution_count": 7,
     "metadata": {},
     "output_type": "execute_result"
    }
   ],
   "source": [
    "arr=np.arange(0,9)\n",
    "arr.reshape(3,3)"
   ]
  },
  {
   "cell_type": "markdown",
   "metadata": {},
   "source": [
    "#### Crear la matriz identidad de 3x3"
   ]
  },
  {
   "cell_type": "code",
   "execution_count": 11,
   "metadata": {},
   "outputs": [
    {
     "data": {
      "text/plain": [
       "array([[1., 0., 0.],\n",
       "       [0., 1., 0.],\n",
       "       [0., 0., 1.]])"
      ]
     },
     "execution_count": 11,
     "metadata": {},
     "output_type": "execute_result"
    }
   ],
   "source": [
    "np.eye(3)"
   ]
  },
  {
   "cell_type": "markdown",
   "metadata": {},
   "source": [
    "#### Use NumPy para generar un numero aleatorio entre 0 y 1"
   ]
  },
  {
   "cell_type": "code",
   "execution_count": 22,
   "metadata": {},
   "outputs": [
    {
     "data": {
      "text/plain": [
       "array([0.63840646])"
      ]
     },
     "execution_count": 22,
     "metadata": {},
     "output_type": "execute_result"
    }
   ],
   "source": [
    "np.random.rand(1)"
   ]
  },
  {
   "cell_type": "markdown",
   "metadata": {},
   "source": [
    "#### Use NumPy para generar un arreglo de 25 numeros aleatorios que sean de la distribucion normal estandar"
   ]
  },
  {
   "cell_type": "code",
   "execution_count": 25,
   "metadata": {},
   "outputs": [
    {
     "data": {
      "text/plain": [
       "array([-0.171552  ,  1.36309921,  0.29806985,  0.72512284,  0.73058988,\n",
       "       -0.16536122,  2.07872265,  1.2375677 ,  0.90465224, -0.08107648,\n",
       "       -0.43199458, -2.66199051,  0.58960015, -0.15626012, -1.27816899,\n",
       "        1.04830602, -0.44295705, -0.80610187, -0.2072668 ,  0.68727713,\n",
       "       -0.34811126, -0.06281758,  0.81924786,  1.14882324,  0.26935823])"
      ]
     },
     "execution_count": 25,
     "metadata": {},
     "output_type": "execute_result"
    }
   ],
   "source": [
    "np.random.randn(25)"
   ]
  },
  {
   "cell_type": "markdown",
   "metadata": {},
   "source": [
    "#### Cree la siguiente matriz:"
   ]
  },
  {
   "cell_type": "code",
   "execution_count": 34,
   "metadata": {},
   "outputs": [
    {
     "data": {
      "text/plain": [
       "array([[0.01, 0.02, 0.03, 0.04, 0.05, 0.06, 0.07, 0.08, 0.09, 0.1 ],\n",
       "       [0.11, 0.12, 0.13, 0.14, 0.15, 0.16, 0.17, 0.18, 0.19, 0.2 ],\n",
       "       [0.21, 0.22, 0.23, 0.24, 0.25, 0.26, 0.27, 0.28, 0.29, 0.3 ],\n",
       "       [0.31, 0.32, 0.33, 0.34, 0.35, 0.36, 0.37, 0.38, 0.39, 0.4 ],\n",
       "       [0.41, 0.42, 0.43, 0.44, 0.45, 0.46, 0.47, 0.48, 0.49, 0.5 ],\n",
       "       [0.51, 0.52, 0.53, 0.54, 0.55, 0.56, 0.57, 0.58, 0.59, 0.6 ],\n",
       "       [0.61, 0.62, 0.63, 0.64, 0.65, 0.66, 0.67, 0.68, 0.69, 0.7 ],\n",
       "       [0.71, 0.72, 0.73, 0.74, 0.75, 0.76, 0.77, 0.78, 0.79, 0.8 ],\n",
       "       [0.81, 0.82, 0.83, 0.84, 0.85, 0.86, 0.87, 0.88, 0.89, 0.9 ],\n",
       "       [0.91, 0.92, 0.93, 0.94, 0.95, 0.96, 0.97, 0.98, 0.99, 1.  ]])"
      ]
     },
     "execution_count": 34,
     "metadata": {},
     "output_type": "execute_result"
    }
   ],
   "source": [
    "arr2 = np.linspace(0.01,1,100)\n",
    "arr2.reshape(10,10)"
   ]
  },
  {
   "cell_type": "markdown",
   "metadata": {},
   "source": [
    "#### Cree un arreglo de 20 elementos linealmente espaciados entre 0 y 1:"
   ]
  },
  {
   "cell_type": "code",
   "execution_count": 27,
   "metadata": {},
   "outputs": [
    {
     "data": {
      "text/plain": [
       "array([0.        , 0.05263158, 0.10526316, 0.15789474, 0.21052632,\n",
       "       0.26315789, 0.31578947, 0.36842105, 0.42105263, 0.47368421,\n",
       "       0.52631579, 0.57894737, 0.63157895, 0.68421053, 0.73684211,\n",
       "       0.78947368, 0.84210526, 0.89473684, 0.94736842, 1.        ])"
      ]
     },
     "execution_count": 27,
     "metadata": {},
     "output_type": "execute_result"
    }
   ],
   "source": [
    "np.linspace(0,1,20)"
   ]
  },
  {
   "cell_type": "markdown",
   "metadata": {},
   "source": [
    "## Indexacion y seleccion con Numpy\n",
    "\n",
    "Ahora se le darán algunas matrices y se le pedirá que replique los resultados de la matriz resultante:"
   ]
  },
  {
   "cell_type": "code",
   "execution_count": 52,
   "metadata": {},
   "outputs": [
    {
     "data": {
      "text/plain": [
       "array([[ 1,  2,  3,  4,  5],\n",
       "       [ 6,  7,  8,  9, 10],\n",
       "       [11, 12, 13, 14, 15],\n",
       "       [16, 17, 18, 19, 20],\n",
       "       [21, 22, 23, 24, 25]])"
      ]
     },
     "execution_count": 52,
     "metadata": {},
     "output_type": "execute_result"
    }
   ],
   "source": [
    "# Matriz de entrada\n",
    "mat = np.arange(1,26).reshape(5,5)\n",
    "mat"
   ]
  },
  {
   "cell_type": "code",
   "execution_count": 38,
   "metadata": {},
   "outputs": [
    {
     "data": {
      "text/plain": [
       "array([[12, 13, 14, 15],\n",
       "       [17, 18, 19, 20],\n",
       "       [22, 23, 24, 25]])"
      ]
     },
     "execution_count": 38,
     "metadata": {},
     "output_type": "execute_result"
    }
   ],
   "source": [
    "mat[2:,1:]"
   ]
  },
  {
   "cell_type": "code",
   "execution_count": 39,
   "metadata": {},
   "outputs": [
    {
     "data": {
      "text/plain": [
       "20"
      ]
     },
     "execution_count": 39,
     "metadata": {},
     "output_type": "execute_result"
    }
   ],
   "source": [
    "mat[3,4]"
   ]
  },
  {
   "cell_type": "code",
   "execution_count": 56,
   "metadata": {},
   "outputs": [
    {
     "data": {
      "text/plain": [
       "array([[ 2],\n",
       "       [ 7],\n",
       "       [12]])"
      ]
     },
     "execution_count": 56,
     "metadata": {},
     "output_type": "execute_result"
    }
   ],
   "source": [
    "a = mat[0:3,1] \n",
    "a.reshape(3,1)"
   ]
  },
  {
   "cell_type": "code",
   "execution_count": 41,
   "metadata": {},
   "outputs": [
    {
     "data": {
      "text/plain": [
       "array([21, 22, 23, 24, 25])"
      ]
     },
     "execution_count": 41,
     "metadata": {},
     "output_type": "execute_result"
    }
   ],
   "source": [
    "mat[4,:]"
   ]
  },
  {
   "cell_type": "code",
   "execution_count": 57,
   "metadata": {},
   "outputs": [
    {
     "data": {
      "text/plain": [
       "array([[16, 17, 18, 19, 20],\n",
       "       [21, 22, 23, 24, 25]])"
      ]
     },
     "execution_count": 57,
     "metadata": {},
     "output_type": "execute_result"
    }
   ],
   "source": [
    "mat[3:,:]"
   ]
  },
  {
   "cell_type": "markdown",
   "metadata": {},
   "source": [
    "#### Obtenga la suma de todos los valores de la matriz"
   ]
  },
  {
   "cell_type": "code",
   "execution_count": 59,
   "metadata": {},
   "outputs": [
    {
     "data": {
      "text/plain": [
       "325"
      ]
     },
     "execution_count": 59,
     "metadata": {},
     "output_type": "execute_result"
    }
   ],
   "source": [
    "sum(sum(mat))"
   ]
  },
  {
   "cell_type": "markdown",
   "metadata": {},
   "source": [
    "#### Obtenga la desviación estándar de los valores de la matriz"
   ]
  },
  {
   "cell_type": "code",
   "execution_count": 60,
   "metadata": {},
   "outputs": [
    {
     "data": {
      "text/plain": [
       "7.211102550927978"
      ]
     },
     "execution_count": 60,
     "metadata": {},
     "output_type": "execute_result"
    }
   ],
   "source": [
    "np.std(mat)"
   ]
  },
  {
   "cell_type": "markdown",
   "metadata": {},
   "source": [
    "#### Obtener la suma de cada una de las columnas de la matriz"
   ]
  },
  {
   "cell_type": "code",
   "execution_count": 58,
   "metadata": {},
   "outputs": [
    {
     "data": {
      "text/plain": [
       "array([55, 60, 65, 70, 75])"
      ]
     },
     "execution_count": 58,
     "metadata": {},
     "output_type": "execute_result"
    }
   ],
   "source": [
    "sum(mat)"
   ]
  }
 ],
 "metadata": {
  "kernelspec": {
   "display_name": "Python 3",
   "language": "python",
   "name": "python3"
  },
  "language_info": {
   "codemirror_mode": {
    "name": "ipython",
    "version": 3
   },
   "file_extension": ".py",
   "mimetype": "text/x-python",
   "name": "python",
   "nbconvert_exporter": "python",
   "pygments_lexer": "ipython3",
   "version": "3.6.5"
  },
  "toc": {
   "base_numbering": 1,
   "nav_menu": {},
   "number_sections": true,
   "sideBar": true,
   "skip_h1_title": false,
   "title_cell": "Contenido",
   "title_sidebar": "Contenido",
   "toc_cell": true,
   "toc_position": {},
   "toc_section_display": true,
   "toc_window_display": true
  }
 },
 "nbformat": 4,
 "nbformat_minor": 2
}
